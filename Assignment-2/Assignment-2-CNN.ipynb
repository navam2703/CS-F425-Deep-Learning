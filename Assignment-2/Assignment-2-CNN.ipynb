{
 "cells": [
  {
   "cell_type": "code",
   "execution_count": 1,
   "metadata": {},
   "outputs": [],
   "source": [
    "import numpy as np\n",
    "import pandas as pd\n",
    "import matplotlib.pyplot as plt\n",
    "import seaborn as sns\n",
    "from sklearn.model_selection import train_test_split\n",
    "from sklearn.preprocessing import StandardScaler\n",
    "import tensorflow as tf\n",
    "from tensorflow import keras\n",
    "from tensorflow.keras.models import Sequential\n",
    "from tensorflow.keras.layers import Dense, Dropout, Activation, Flatten\n",
    "from sklearn.metrics import confusion_matrix, classification_report, accuracy_score"
   ]
  },
  {
   "cell_type": "code",
   "execution_count": 2,
   "metadata": {},
   "outputs": [],
   "source": [
    "(x_train, y_train), (x_test, y_test) = tf.keras.datasets.fashion_mnist.load_data()"
   ]
  },
  {
   "cell_type": "code",
   "execution_count": 3,
   "metadata": {},
   "outputs": [
    {
     "name": "stdout",
     "output_type": "stream",
     "text": [
      "(60000, 28, 28) (60000,) (10000, 28, 28) (10000,)\n"
     ]
    }
   ],
   "source": [
    "print(x_train.shape, y_train.shape, x_test.shape, y_test.shape)"
   ]
  },
  {
   "cell_type": "code",
   "execution_count": 4,
   "metadata": {},
   "outputs": [
    {
     "data": {
      "text/plain": [
       "<matplotlib.image.AxesImage at 0x20b5a7ea610>"
      ]
     },
     "execution_count": 4,
     "metadata": {},
     "output_type": "execute_result"
    },
    {
     "data": {
      "image/png": "[encoded data removed]",
      "text/plain": [
       "<Figure size 432x288 with 1 Axes>"
      ]
     },
     "metadata": {
      "needs_background": "light"
     },
     "output_type": "display_data"
    }
   ],
   "source": [
    "plt.imshow(x_train[0])"
   ]
  },
  {
   "cell_type": "code",
   "execution_count": 5,
   "metadata": {},
   "outputs": [],
   "source": [
    "# shaping data vectors\n",
    "\n",
    "x_train = x_train.reshape(-1, 28, 28, 1)\n",
    "y_train = y_train.reshape(-1, 1)\n",
    "x_test = x_test.reshape(-1, 28, 28, 1)\n",
    "y_test = y_test.reshape(-1, 1)\n",
    "\n",
    "# y_train = tf.keras.utils.to_categorical(y_train)\n",
    "# y_test = tf.keras.utils.to_categorical(y_test)\n",
    "\n",
    "# normalizing data\n",
    "x_train = x_train.astype('float32') / 255.0\n",
    "x_test = x_test.astype('float32') / 255.0"
   ]
  },
  {
   "cell_type": "markdown",
   "metadata": {},
   "source": [
    "### model 1 : "
   ]
  },
  {
   "cell_type": "code",
   "execution_count": 6,
   "metadata": {},
   "outputs": [],
   "source": [
    "def createModel():\n",
    "    model = tf.keras.Sequential()\n",
    "    \n",
    "    model.add(tf.keras.layers.Conv2D(filters = 32, kernel_size = (3,3), input_shape = (28, 28, 1), padding = 'valid', activation = 'relu'))\n",
    "    model.add(tf.keras.layers.BatchNormalization())\n",
    "    model.add(tf.keras.layers.Conv2D(filters = 32, kernel_size = (3,3), input_shape = (28, 28, 1), padding = 'valid', activation = 'relu'))\n",
    "    model.add(tf.keras.layers.BatchNormalization())\n",
    "    model.add(tf.keras.layers.MaxPool2D(pool_size = (2,2)))\n",
    "    model.add(tf.keras.layers.Dropout(0.2))\n",
    "    \n",
    "    model.add(tf.keras.layers.Conv2D(filters =64, kernel_size = (3,3), input_shape = (12, 12, 32), padding = 'same', activation = 'relu'))\n",
    "    model.add(tf.keras.layers.BatchNormalization())\n",
    "    model.add(tf.keras.layers.MaxPool2D(pool_size = (2,2)))\n",
    "    model.add(tf.keras.layers.Dropout(0.2))\n",
    "    \n",
    "    model.add(tf.keras.layers.Flatten())\n",
    "    model.add(tf.keras.layers.Dense(32, activation='relu', activity_regularizer = tf.keras.regularizers.l2(0.01)))\n",
    "    model.add(tf.keras.layers.Dense(10, activation = 'softmax',  activity_regularizer = tf.keras.regularizers.l2(0.01)))\n",
    "    \n",
    "    model.summary()\n",
    "\n",
    "    return model"
   ]
  },
  {
   "cell_type": "code",
   "execution_count": 7,
   "metadata": {},
   "outputs": [],
   "source": [
    "def trainModel(model):\n",
    "    model.compile(loss = 'sparse_categorical_crossentropy', optimizer = 'adam', metrics = ['accuracy'])\n",
    "    keras_history = model.fit(x_train, y_train, epochs = 30, validation_split = 0.2)\n",
    "    return keras_history"
   ]
  },
  {
   "cell_type": "code",
   "execution_count": 8,
   "metadata": {},
   "outputs": [],
   "source": [
    "def getModelPredictions(model, X_test):\n",
    "    predictions = np.argmax(model.predict(X_test), axis = 1)\n",
    "    return predictions\n"
   ]
  },
  {
   "cell_type": "code",
   "execution_count": 9,
   "metadata": {},
   "outputs": [
    {
     "name": "stdout",
     "output_type": "stream",
     "text": [
      "(60000, 28, 28, 1) (60000, 1) (10000, 28, 28, 1) (10000, 1)\n",
      "Model: \"sequential\"\n",
      "_________________________________________________________________\n",
      "Layer (type)                 Output Shape              Param #   \n",
      "=================================================================\n",
      "conv2d (Conv2D)              (None, 26, 26, 32)        320       \n",
      "_________________________________________________________________\n",
      "batch_normalization (BatchNo (None, 26, 26, 32)        128       \n",
      "_________________________________________________________________\n",
      "conv2d_1 (Conv2D)            (None, 24, 24, 32)        9248      \n",
      "_________________________________________________________________\n",
      "batch_normalization_1 (Batch (None, 24, 24, 32)        128       \n",
      "_________________________________________________________________\n",
      "max_pooling2d (MaxPooling2D) (None, 12, 12, 32)        0         \n",
      "_________________________________________________________________\n",
      "dropout (Dropout)            (None, 12, 12, 32)        0         \n",
      "_________________________________________________________________\n",
      "conv2d_2 (Conv2D)            (None, 12, 12, 64)        18496     \n",
      "_________________________________________________________________\n",
      "batch_normalization_2 (Batch (None, 12, 12, 64)        256       \n",
      "_________________________________________________________________\n",
      "max_pooling2d_1 (MaxPooling2 (None, 6, 6, 64)          0         \n",
      "_________________________________________________________________\n",
      "dropout_1 (Dropout)          (None, 6, 6, 64)          0         \n",
      "_________________________________________________________________\n",
      "flatten (Flatten)            (None, 2304)              0         \n",
      "_________________________________________________________________\n",
      "dense (Dense)                (None, 32)                73760     \n",
      "_________________________________________________________________\n",
      "dense_1 (Dense)              (None, 10)                330       \n",
      "=================================================================\n",
      "Total params: 102,666\n",
      "Trainable params: 102,410\n",
      "Non-trainable params: 256\n",
      "_________________________________________________________________\n",
      "Epoch 1/30\n",
      "1500/1500 [==============================] - 75s 49ms/step - loss: 0.8985 - accuracy: 0.8030 - val_loss: 0.6071 - val_accuracy: 0.8642\n",
      "Epoch 2/30\n",
      "1500/1500 [==============================] - 69s 46ms/step - loss: 0.5338 - accuracy: 0.8756 - val_loss: 0.4462 - val_accuracy: 0.8890\n",
      "Epoch 3/30\n",
      "1500/1500 [==============================] - 69s 46ms/step - loss: 0.4026 - accuracy: 0.8999 - val_loss: 0.3727 - val_accuracy: 0.9018\n",
      "Epoch 4/30\n",
      "1500/1500 [==============================] - 75s 50ms/step - loss: 0.3429 - accuracy: 0.9094 - val_loss: 0.3338 - val_accuracy: 0.9068\n",
      "Epoch 5/30\n",
      "1500/1500 [==============================] - 74s 49ms/step - loss: 0.3037 - accuracy: 0.9196 - val_loss: 0.2914 - val_accuracy: 0.9208\n",
      "Epoch 6/30\n",
      "1500/1500 [==============================] - 75s 50ms/step - loss: 0.2772 - accuracy: 0.9242 - val_loss: 0.2892 - val_accuracy: 0.9172\n",
      "Epoch 7/30\n",
      "1500/1500 [==============================] - 73s 49ms/step - loss: 0.2556 - accuracy: 0.9285 - val_loss: 0.2699 - val_accuracy: 0.9184\n",
      "Epoch 8/30\n",
      "1500/1500 [==============================] - 78s 52ms/step - loss: 0.2393 - accuracy: 0.9321 - val_loss: 0.2536 - val_accuracy: 0.9234\n",
      "Epoch 9/30\n",
      "1500/1500 [==============================] - 74s 49ms/step - loss: 0.2236 - accuracy: 0.9377 - val_loss: 0.2577 - val_accuracy: 0.9219\n",
      "Epoch 10/30\n",
      "1500/1500 [==============================] - 76s 51ms/step - loss: 0.2138 - accuracy: 0.9408 - val_loss: 0.2506 - val_accuracy: 0.9262\n",
      "Epoch 11/30\n",
      "1500/1500 [==============================] - 75s 50ms/step - loss: 0.2032 - accuracy: 0.9445 - val_loss: 0.2370 - val_accuracy: 0.9290\n",
      "Epoch 12/30\n",
      "1500/1500 [==============================] - 74s 49ms/step - loss: 0.1937 - accuracy: 0.9463 - val_loss: 0.2559 - val_accuracy: 0.9215\n",
      "Epoch 13/30\n",
      "1500/1500 [==============================] - 78s 52ms/step - loss: 0.1860 - accuracy: 0.9484 - val_loss: 0.2407 - val_accuracy: 0.9274\n",
      "Epoch 14/30\n",
      "1500/1500 [==============================] - 77s 51ms/step - loss: 0.1804 - accuracy: 0.9502 - val_loss: 0.2465 - val_accuracy: 0.9245\n",
      "Epoch 15/30\n",
      "1500/1500 [==============================] - 76s 50ms/step - loss: 0.1706 - accuracy: 0.9523 - val_loss: 0.2473 - val_accuracy: 0.9291\n",
      "Epoch 16/30\n",
      "1500/1500 [==============================] - 77s 51ms/step - loss: 0.1685 - accuracy: 0.9540 - val_loss: 0.2482 - val_accuracy: 0.9253\n",
      "Epoch 17/30\n",
      "1500/1500 [==============================] - 69s 46ms/step - loss: 0.1611 - accuracy: 0.9555 - val_loss: 0.2435 - val_accuracy: 0.9278\n",
      "Epoch 18/30\n",
      "1500/1500 [==============================] - 66s 44ms/step - loss: 0.1567 - accuracy: 0.9574 - val_loss: 0.2478 - val_accuracy: 0.9262\n",
      "Epoch 19/30\n",
      "1500/1500 [==============================] - 66s 44ms/step - loss: 0.1509 - accuracy: 0.9597 - val_loss: 0.2464 - val_accuracy: 0.9259\n",
      "Epoch 20/30\n",
      "1500/1500 [==============================] - 66s 44ms/step - loss: 0.1500 - accuracy: 0.9599 - val_loss: 0.2584 - val_accuracy: 0.9239\n",
      "Epoch 21/30\n",
      "1500/1500 [==============================] - 66s 44ms/step - loss: 0.1453 - accuracy: 0.9604 - val_loss: 0.2319 - val_accuracy: 0.9300\n",
      "Epoch 22/30\n",
      "1500/1500 [==============================] - 66s 44ms/step - loss: 0.1392 - accuracy: 0.9636 - val_loss: 0.2366 - val_accuracy: 0.9299\n",
      "Epoch 23/30\n",
      "1500/1500 [==============================] - 66s 44ms/step - loss: 0.1382 - accuracy: 0.9640 - val_loss: 0.2321 - val_accuracy: 0.9316\n",
      "Epoch 24/30\n",
      "1500/1500 [==============================] - 67s 44ms/step - loss: 0.1341 - accuracy: 0.9654 - val_loss: 0.2443 - val_accuracy: 0.9293\n",
      "Epoch 25/30\n",
      "1500/1500 [==============================] - 66s 44ms/step - loss: 0.1306 - accuracy: 0.9663 - val_loss: 0.2515 - val_accuracy: 0.9294\n",
      "Epoch 26/30\n",
      "1500/1500 [==============================] - 66s 44ms/step - loss: 0.1305 - accuracy: 0.9659 - val_loss: 0.2642 - val_accuracy: 0.9274\n",
      "Epoch 27/30\n",
      "1500/1500 [==============================] - 65s 44ms/step - loss: 0.1283 - accuracy: 0.9664 - val_loss: 0.2563 - val_accuracy: 0.9302\n",
      "Epoch 28/30\n",
      "1500/1500 [==============================] - 65s 44ms/step - loss: 0.1249 - accuracy: 0.9675 - val_loss: 0.2523 - val_accuracy: 0.9293\n",
      "Epoch 29/30\n",
      "1500/1500 [==============================] - 65s 43ms/step - loss: 0.1213 - accuracy: 0.9681 - val_loss: 0.2496 - val_accuracy: 0.9294\n",
      "Epoch 30/30\n",
      "1500/1500 [==============================] - 65s 43ms/step - loss: 0.1235 - accuracy: 0.9682 - val_loss: 0.2456 - val_accuracy: 0.9320\n"
     ]
    }
   ],
   "source": [
    "tf.keras.backend.clear_session()\n",
    "print(x_train.shape, y_train.shape, x_test.shape, y_test.shape)\n",
    "model = createModel()\n",
    "keras_history = trainModel(model)\n",
    "y_pred = getModelPredictions(model, x_test)"
   ]
  },
  {
   "cell_type": "code",
   "execution_count": 10,
   "metadata": {},
   "outputs": [
    {
     "data": {
      "text/plain": [
       "<matplotlib.legend.Legend at 0x20b57fbdf70>"
      ]
     },
     "execution_count": 10,
     "metadata": {},
     "output_type": "execute_result"
    },
    {
     "data": {
      "image/png": "[encoded data removed]",
      "text/plain": [
       "<Figure size 432x288 with 1 Axes>"
      ]
     },
     "metadata": {
      "needs_background": "light"
     },
     "output_type": "display_data"
    },
    {
     "data": {
      "image/png": "[encoded data removed]",
      "text/plain": [
       "<Figure size 432x288 with 1 Axes>"
      ]
     },
     "metadata": {
      "needs_background": "light"
     },
     "output_type": "display_data"
    }
   ],
   "source": [
    "plt.plot(keras_history.history['loss'], label='Training loss')\n",
    "plt.plot(keras_history.history['val_loss'], color='red', label='cv loss')\n",
    "plt.legend()\n",
    "plt.figure()\n",
    "plt.plot(keras_history.history['accuracy'], label='Training accuracy')\n",
    "plt.plot(keras_history.history['val_accuracy'], color='red', label='cv accuracy')\n",
    "plt.legend()"
   ]
  },
  {
   "cell_type": "code",
   "execution_count": 11,
   "metadata": {},
   "outputs": [
    {
     "name": "stdout",
     "output_type": "stream",
     "text": [
      "0.9291\n"
     ]
    }
   ],
   "source": [
    "print(accuracy_score(y_test, y_pred))"
   ]
  }
 ],
 "metadata": {
  "interpreter": {
   "hash": "4acd6f3bc858e5ce5cb034395b6da0c4956a6cf4e023a021bc662e3327e61897"
  },
  "kernelspec": {
   "display_name": "Python 3.8.12 64-bit ('DL_tf': conda)",
   "language": "python",
   "name": "python3"
  },
  "language_info": {
   "codemirror_mode": {
    "name": "ipython",
    "version": 3
   },
   "file_extension": ".py",
   "mimetype": "text/x-python",
   "name": "python",
   "nbconvert_exporter": "python",
   "pygments_lexer": "ipython3",
   "version": "3.8.12"
  },
  "orig_nbformat": 4
 },
 "nbformat": 4,
 "nbformat_minor": 2
}
